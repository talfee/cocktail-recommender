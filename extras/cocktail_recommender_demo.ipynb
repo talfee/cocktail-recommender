{
 "cells": [
  {
   "cell_type": "code",
   "execution_count": null,
   "id": "869cd6ef",
   "metadata": {},
   "outputs": [
    {
     "name": "stdout",
     "output_type": "stream",
     "text": [
      "Espresso Martini: 23.7%\n",
      "Mimosa: 20.6%\n",
      "Pisco Sour: 17.5%\n"
     ]
    }
   ],
   "source": [
    "import json\n",
    "from sentence_transformers import SentenceTransformer\n",
    "import faiss\n",
    "import numpy as np\n",
    "\n",
    "# demo of the cocktail recommender system in a jupyter notebook. same logic is used in the Flask app.\n",
    "with open('cocktail_data.json') as f:\n",
    "    data = json.load(f)\n",
    "descriptions = [d['description'] for d in data]\n",
    "\n",
    "model = SentenceTransformer('all-MiniLM-L6-v2')\n",
    "embeddings = model.encode(descriptions, normalize_embeddings=True)\n",
    "index = faiss.IndexFlatIP(embeddings.shape[1])\n",
    "index.add(np.array(embeddings).astype('float32'))\n",
    "\n",
    "query = 'mimosa'\n",
    "q_emb = model.encode([query], normalize_embeddings=True)\n",
    "D, I = index.search(np.array(q_emb).astype('float32'), k=3)\n",
    "for score, idx in zip(D[0], I[0]):\n",
    "    print(f\"{data[idx]['name']}: {score*100:.1f}%\")\n"
   ]
  }
 ],
 "metadata": {
  "kernelspec": {
   "display_name": "venv",
   "language": "python",
   "name": "python3"
  },
  "language_info": {
   "codemirror_mode": {
    "name": "ipython",
    "version": 3
   },
   "file_extension": ".py",
   "mimetype": "text/x-python",
   "name": "python",
   "nbconvert_exporter": "python",
   "pygments_lexer": "ipython3",
   "version": "3.13.1"
  }
 },
 "nbformat": 4,
 "nbformat_minor": 5
}
